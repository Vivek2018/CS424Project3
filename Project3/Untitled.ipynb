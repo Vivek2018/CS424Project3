{
 "cells": [
  {
   "cell_type": "code",
   "execution_count": 1,
   "id": "focal-morris",
   "metadata": {},
   "outputs": [],
   "source": [
    "data <- read.csv('energy-usage-2010.csv')"
   ]
  },
  {
   "cell_type": "code",
   "execution_count": 2,
   "id": "accessory-infection",
   "metadata": {},
   "outputs": [],
   "source": [
    "sub_data <- data[data$COMMUNITY.AREA.NAME == 'Near West Side', ]"
   ]
  },
  {
   "cell_type": "code",
   "execution_count": null,
   "id": "expired-outreach",
   "metadata": {},
   "outputs": [],
   "source": []
  }
 ],
 "metadata": {
  "kernelspec": {
   "display_name": "R",
   "language": "R",
   "name": "ir"
  },
  "language_info": {
   "codemirror_mode": "r",
   "file_extension": ".r",
   "mimetype": "text/x-r-source",
   "name": "R",
   "pygments_lexer": "r",
   "version": "3.6.1"
  }
 },
 "nbformat": 4,
 "nbformat_minor": 5
}
